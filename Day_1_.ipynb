{
  "nbformat": 4,
  "nbformat_minor": 0,
  "metadata": {
    "colab": {
      "name": "Day_1 .ipynb",
      "provenance": [],
      "authorship_tag": "ABX9TyO3lFsJqInaiCMd2VSJ4Fj/",
      "include_colab_link": true
    },
    "kernelspec": {
      "name": "python3",
      "display_name": "Python 3"
    },
    "language_info": {
      "name": "python"
    }
  },
  "cells": [
    {
      "cell_type": "markdown",
      "metadata": {
        "id": "view-in-github",
        "colab_type": "text"
      },
      "source": [
        "<a href=\"https://colab.research.google.com/github/ThiagSampaio/30_Days_of_ML_Kaggle/blob/main/Day_1_.ipynb\" target=\"_parent\"><img src=\"https://colab.research.google.com/assets/colab-badge.svg\" alt=\"Open In Colab\"/></a>"
      ]
    },
    {
      "cell_type": "markdown",
      "metadata": {
        "id": "AXmCYHnSZ9cy"
      },
      "source": [
        "<h1> Olá Python. </h1>\n",
        "\n",
        "Este curso cobre as principais habilidades em python que você irá precisar para poder utilizar essa linguagem para ciência de dados.\n",
        "\n",
        "Começaremos com uma pequena revisão da sintaxe python, atribuição de variáveis e operadores aritméticos. Se você tem alguma experiência em python, você pode pular diretamente para os exercícios.\n",
        "\n",
        "<h2> Olá, Python! </h2> \n",
        "\n",
        "O nome Python vem da comédia Monty Python, então faremos nosso primeiro programa Python uma homenagem à sua enquete sobre Spam.\n",
        "\n",
        "Apenas como diversão, tente ler o código abaixo e prever o que ele fará quando for executado. "
      ]
    },
    {
      "cell_type": "code",
      "metadata": {
        "id": "kD99dIXoYvZv",
        "colab": {
          "base_uri": "https://localhost:8080/"
        },
        "outputId": "829ec7b8-7516-4487-fdcc-3202afa475a9"
      },
      "source": [
        "spam_amount = 0\n",
        "print(spam_amount)\n",
        "\n",
        "spam_amount = spam_amount + 4\n",
        "\n",
        "if spam_amount > 0:\n",
        "  print(\"But I don´t want ANY spam!\")\n",
        "\n",
        "viking_song = \"Spam\" * spam_amount\n",
        "print(viking_song)"
      ],
      "execution_count": 2,
      "outputs": [
        {
          "output_type": "stream",
          "text": [
            "0\n",
            "But I don´t want ANY spam!\n",
            "SpamSpamSpamSpam\n"
          ],
          "name": "stdout"
        }
      ]
    },
    {
      "cell_type": "markdown",
      "metadata": {
        "id": "TYtprs6kcwgZ"
      },
      "source": [
        ""
      ]
    },
    {
      "cell_type": "code",
      "metadata": {
        "id": "PGtJYq04Z5Nf"
      },
      "source": [
        ""
      ],
      "execution_count": null,
      "outputs": []
    },
    {
      "cell_type": "markdown",
      "metadata": {
        "id": "xaR8v6bgY0iy"
      },
      "source": [
        "# Nova seção"
      ]
    }
  ]
}