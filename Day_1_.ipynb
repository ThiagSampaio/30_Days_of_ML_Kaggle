{
  "nbformat": 4,
  "nbformat_minor": 0,
  "metadata": {
    "colab": {
      "name": "Day_1 .ipynb",
      "provenance": [],
      "collapsed_sections": [],
      "authorship_tag": "ABX9TyO+tHob6cqZUv21DzTkz7Gu",
      "include_colab_link": true
    },
    "kernelspec": {
      "name": "python3",
      "display_name": "Python 3"
    },
    "language_info": {
      "name": "python"
    }
  },
  "cells": [
    {
      "cell_type": "markdown",
      "metadata": {
        "id": "view-in-github",
        "colab_type": "text"
      },
      "source": [
        "<a href=\"https://colab.research.google.com/github/ThiagSampaio/30_Days_of_ML_Kaggle/blob/main/Day_1_.ipynb\" target=\"_parent\"><img src=\"https://colab.research.google.com/assets/colab-badge.svg\" alt=\"Open In Colab\"/></a>"
      ]
    },
    {
      "cell_type": "markdown",
      "metadata": {
        "id": "AXmCYHnSZ9cy"
      },
      "source": [
        "<h1> Olá Python. </h1>\n",
        "\n",
        "Este curso cobre as principais habilidades em python que você irá precisar para poder utilizar essa linguagem para ciência de dados.\n",
        "\n",
        "Começaremos com uma pequena revisão da sintaxe python, atribuição de variáveis e operadores aritméticos. Se você tem alguma experiência em python, você pode pular diretamente para os exercícios.\n",
        "\n",
        "<h2> Olá, Python! </h2> \n",
        "\n",
        "O nome Python vem da comédia Monty Python, então faremos nosso primeiro programa Python uma homenagem à sua enquete sobre Spam.\n",
        "\n",
        "Apenas como diversão, tente ler o código abaixo e prever o que ele fará quando for executado. "
      ]
    },
    {
      "cell_type": "code",
      "metadata": {
        "id": "kD99dIXoYvZv",
        "colab": {
          "base_uri": "https://localhost:8080/"
        },
        "outputId": "829ec7b8-7516-4487-fdcc-3202afa475a9"
      },
      "source": [
        "spam_amount = 0\n",
        "print(spam_amount)\n",
        "\n",
        "spam_amount = spam_amount + 4\n",
        "\n",
        "if spam_amount > 0:\n",
        "  print(\"But I don´t want ANY spam!\")\n",
        "\n",
        "viking_song = \"Spam\" * spam_amount\n",
        "print(viking_song)"
      ],
      "execution_count": 2,
      "outputs": [
        {
          "output_type": "stream",
          "text": [
            "0\n",
            "But I don´t want ANY spam!\n",
            "SpamSpamSpamSpam\n"
          ],
          "name": "stdout"
        }
      ]
    },
    {
      "cell_type": "markdown",
      "metadata": {
        "id": "TYtprs6kcwgZ"
      },
      "source": [
        "Temos muito o que aprender aqui. Este pequeno programa demonstra muitos aspectos importantes de como um código Python se pareçe e como ele trabalha. Vamos revisar o código do topo até seu final"
      ]
    },
    {
      "cell_type": "code",
      "metadata": {
        "id": "PGtJYq04Z5Nf"
      },
      "source": [
        "spam_amount = 0"
      ],
      "execution_count": 3,
      "outputs": []
    },
    {
      "cell_type": "markdown",
      "metadata": {
        "id": "UeRNt6B4ensp"
      },
      "source": [
        "<b> Atribuição de variável:</b>aqui criamos uma variável chamada spam_amount e atribuímos a ela o valor '0' usando =, que é achamado de operador de atribuição. \n",
        "> **À parte**: Se você programou em algumas outras linguagens(como Java ou C++), pode estar percebendo algumas coisas que o Python não exige que façamos aqui:\n",
        "- Não precisamos \"declarar\" spam_amount antes de atribuir a ele.\n",
        "- Não precisamos dizer ao Python a que tipo de valor spam_amount vai se referir. Na verdade, podemos até reatribuir spam_amount para se referir a um tipo diferente de coisa como uma string ou booleano. \n"
      ]
    },
    {
      "cell_type": "code",
      "metadata": {
        "colab": {
          "base_uri": "https://localhost:8080/"
        },
        "id": "6XVqNurgenJa",
        "outputId": "c3a1176c-40aa-4ad9-d722-b320ad39ca18"
      },
      "source": [
        "print(spam_amount)"
      ],
      "execution_count": 4,
      "outputs": [
        {
          "output_type": "stream",
          "text": [
            "0\n"
          ],
          "name": "stdout"
        }
      ]
    },
    {
      "cell_type": "markdown",
      "metadata": {
        "id": "fMSV6X-cgFx6"
      },
      "source": [
        "**Chamadas de função:** `print` é uma função Python que exibe o valor passado a ela na tela. Chamamos as funções colocando parêncteses após seu nome e colocando as entradas(ou *argumentos*) para a função entre esses parênteses."
      ]
    },
    {
      "cell_type": "code",
      "metadata": {
        "id": "0PtEkfjIjv0E"
      },
      "source": [
        "#Somando 4 na variável spam\n",
        "spam_amount = spam_amount + 4"
      ],
      "execution_count": 5,
      "outputs": []
    },
    {
      "cell_type": "markdown",
      "metadata": {
        "id": "xaR8v6bgY0iy"
      },
      "source": [
        "A primeira linha acima é uma **comentário**. Em Python, os comentários começam com o símbolo `#`.\n",
        "\n",
        "A seguir, vemos um exemplo de reatribuição. Reatribuir o valor de uma vriável existente parece o mesmo que criar uma variável - ele ainda usa o operador de atribuição `=`.\n",
        "\n",
        "Nesse caso, o valor que estamos atribuindo a `spam_amount` envolve alguma aritmética simples em seu valor anterior. Ao escontrar essa linha, O Python avalia a expressão do lado direito de `=` (0+4 = 4 ) e atribui esse valor à variável do lado esquerdo."
      ]
    },
    {
      "cell_type": "code",
      "metadata": {
        "colab": {
          "base_uri": "https://localhost:8080/"
        },
        "id": "CxDnWgY0ky1b",
        "outputId": "c14bf4ba-a73d-4afc-e572-51b38e6a3112"
      },
      "source": [
        "if spam_amount > 0:\n",
        "  print('But I don´t want ANY spam!')\n",
        "\n",
        "viking_song = \"Spam Spam Spam\"\n",
        "print(viking_song)"
      ],
      "execution_count": 6,
      "outputs": [
        {
          "output_type": "stream",
          "text": [
            "But I don´t want ANY spam!\n",
            "Spam Spam Spam\n"
          ],
          "name": "stdout"
        }
      ]
    },
    {
      "cell_type": "markdown",
      "metadata": {
        "id": "hN9TQjMilHnS"
      },
      "source": [
        "Não falaremos muito sobre \"condicionais\" até mais tarde, mas, mesmo que você nunca tenha programado antes, provavelmente pode adivinhar o que isso faz. Python é valorizado por sua legibilidade e simplocidade. \n",
        "\n",
        "Observe como indicamos qual código pertence ao `if`.`\"Mas eu não quero NENHUM spam\"`Só dever ser impresso se `spam_amount` for positivo. Mas o código posterior(como `print(viking_song)`) deve ser executado de qualque maneira.Como nós(e Python) sabemos disso?\n",
        "\n",
        "Os dois pontos(`:`) no final da linha `if` indicam que um novo **bloco de código** está começando. As linhas subsequentes que são indentadas fazem parte desse código.\n",
        ">**À parte**: Se você já programou antes, deve saner que algumas linguagem usan `{`chaves`}` para marcar o nício e o fim dos blocos de código. O uso de espaços em branco significativos pelo Python pode ser surpreendente para os programadores que estão acostumados com outras linguagens, mas na prática pode levar a um código mais consistente e legível do que as linguagens que não impõem endentação de blocos de código. \n",
        "\n",
        "As últimas linhas que lidam com `viking_song` não sçai indentadas com 4 espaços extras, então elas não fazem parte do bloco de código `if`. Veremos mais exemplos de blocos de código recuados posteriormente, quando definirmos funções e usarmos loops.\n",
        "\n",
        "Este snippet de código tambpem pe a primeira ver que avistamos uma **string** em Python:\n",
        "\n",
        "```python\n",
        "\"But I don´t wnat ANY spam!\"\n",
        "```\n",
        "\n",
        "As strings podem ser marcadas por aspas duplas ou simples. (Mas como esse string particular *contém* um caractere de aspas simples, podemos confundir o Python tentando colocá-lo entre aspas simples, a menos que tenhamos cuidado.)"
      ]
    },
    {
      "cell_type": "code",
      "metadata": {
        "colab": {
          "base_uri": "https://localhost:8080/"
        },
        "id": "BTzh2Yk2lDT3",
        "outputId": "3482be34-626f-41c2-f693-51819624f62d"
      },
      "source": [
        "viking_song = 'Spam' * spam_amount\n",
        "print(viking_song)"
      ],
      "execution_count": 7,
      "outputs": [
        {
          "output_type": "stream",
          "text": [
            "SpamSpamSpamSpam\n"
          ],
          "name": "stdout"
        }
      ]
    },
    {
      "cell_type": "markdown",
      "metadata": {
        "id": "NN68l0XZob9m"
      },
      "source": [
        "O operador `*` pode ser usado para multiplicar dois números (`3*3` avalia para 9), mas também podemos multiplicar uma string por um número, para obter uma versão que foir repetida tantas vezes.Python oferece uma série de pequenos truques atrevidos para economizar tempo como este, onde operadores como `*` e `+` têm um significado diferente dependo do tipo de coisa a que são aplicados(O termo técnico para isso é [sobrecarga de operador](https://en.wikipedia.org/wiki/Operator_overloading).)\n",
        "\n",
        "<h2> Números e aritmética em Python </h2>\n",
        "\n",
        "Já vimos um exemplo de uma variável contendo um número acima:"
      ]
    },
    {
      "cell_type": "code",
      "metadata": {
        "id": "9JPviclRoaIO"
      },
      "source": [
        "spam_amount = 0"
      ],
      "execution_count": 8,
      "outputs": []
    },
    {
      "cell_type": "markdown",
      "metadata": {
        "id": "MWgBqPSisBKl"
      },
      "source": [
        "\"Número\" é um bom nome informal para esse tipo de coisa, mas se quiséssemos ser mais técnicos, poderíamos perguntar ao Python como ele descreveria o tipo de coisa que spam_amount é:"
      ]
    },
    {
      "cell_type": "code",
      "metadata": {
        "colab": {
          "base_uri": "https://localhost:8080/"
        },
        "id": "qwouveOcqEth",
        "outputId": "32fe9ded-58a6-46fe-e8b6-9bc76f1c6aa7"
      },
      "source": [
        "type(spam_amount)"
      ],
      "execution_count": 9,
      "outputs": [
        {
          "output_type": "execute_result",
          "data": {
            "text/plain": [
              "int"
            ]
          },
          "metadata": {},
          "execution_count": 9
        }
      ]
    },
    {
      "cell_type": "markdown",
      "metadata": {
        "id": "iyeA2wEOsArD"
      },
      "source": [
        "É um `int` - abreviação de inteiro. Há outro tipo de número que comumente encontramos em Python. "
      ]
    },
    {
      "cell_type": "code",
      "metadata": {
        "colab": {
          "base_uri": "https://localhost:8080/"
        },
        "id": "Y9kj0T6Ysf-4",
        "outputId": "1534affd-8cbd-49e2-eba7-28f84dd88e16"
      },
      "source": [
        "type(19.95)"
      ],
      "execution_count": 10,
      "outputs": [
        {
          "output_type": "execute_result",
          "data": {
            "text/plain": [
              "float"
            ]
          },
          "metadata": {},
          "execution_count": 10
        }
      ]
    },
    {
      "cell_type": "markdown",
      "metadata": {
        "id": "EdyfZM4vslfE"
      },
      "source": [
        "Um `float` é um número com uma casa decimal - muito útil para representar coisas como pesos e proporções.\n",
        "\n",
        "`type()` é a segunfa função embutida que vimos(depois de `print()`), e é outra boa para lembrar. É muito útil poder perguntar ao Python \"que tipo de variável é essa?\".\n",
        "\n",
        "Uma coisa natual que se deseja fazer com números é fazer cálculos aritméticos. Vimos o operador `+` para adição e o operador `*` para multiplicação. O Python também nos cobre com os restantes dos botões básiscos da calculadora:\n",
        "\n",
        "| Operator     | Nome          | Descrição                                           |\n",
        "|--------------|----------------|--------------------------------------------------------|\n",
        "| ``a + b``    | Adição       | Soma de ``a`` e ``b``                                 |\n",
        "| ``a - b``    | Subtração   | Diferença de ``a`` e ``b``                          |\n",
        "| ``a * b``    | Multiplicação | Produto de  ``a`` e ``b``                             |\n",
        "| ``a / b``    | Divisão verdadeira  | Quociente de ``a`` e ``b``                            |\n",
        "| ``a // b``   | Divisão quociente | Quociente de ``a`` e ``b``, removendo a parte fracionaria |\n",
        "| ``a % b``    | Módulo      | Restante inteiro após a divisão de ``a`` by ``b``     |\n",
        "| ``a ** b``   | Exponenciação | ``a`` exponencial ``b``                     |\n",
        "| ``-a``       | Negação      | Negativo de ``a``                                  |\n",
        "\n",
        "<span style=\"display:none\"></span>\n",
        "\n",
        "Uma observação interessante aqui é que, embora sua calculadora provavelmente tenha apenas um botão para divisão, o Python pode fazer dois tipos. \"Divisão verdadeira\" é basicamente o que sua calculadora faz:\n"
      ]
    },
    {
      "cell_type": "code",
      "metadata": {
        "colab": {
          "base_uri": "https://localhost:8080/"
        },
        "id": "-nG4citMsk_I",
        "outputId": "682d4710-b2bf-4faa-872f-1948e8bba785"
      },
      "source": [
        "print(5/2)\n",
        "print(6/2)"
      ],
      "execution_count": 11,
      "outputs": [
        {
          "output_type": "stream",
          "text": [
            "2.5\n",
            "3.0\n"
          ],
          "name": "stdout"
        }
      ]
    },
    {
      "cell_type": "markdown",
      "metadata": {
        "id": "Ox5Brv_iuxHL"
      },
      "source": [
        "Isso sempre nos dá um `float`.\n",
        "\n",
        "O operador `//` nos dá um resultado que é arredondado para o próximo inteiro."
      ]
    },
    {
      "cell_type": "code",
      "metadata": {
        "colab": {
          "base_uri": "https://localhost:8080/"
        },
        "id": "rDExuWa-uw4Z",
        "outputId": "bf3119e3-553d-4452-b6cd-f39d23e995a8"
      },
      "source": [
        "print(5 // 2)\n",
        "print(6 // 2)"
      ],
      "execution_count": 12,
      "outputs": [
        {
          "output_type": "stream",
          "text": [
            "2\n",
            "3\n"
          ],
          "name": "stdout"
        }
      ]
    },
    {
      "cell_type": "markdown",
      "metadata": {
        "id": "lcrCHwvPwLoA"
      },
      "source": [
        "### Ordem de operações\n",
        "\n",
        "A aritmética que aprendemos na escola primária tem convenções sobre a ordem em que as operações são avaliadas. Alguns se lembram deles por um mnemônico, como **PEMDAS ** - **P**arentheses, **E**xponents, **M**ultiplication / **D**ivision, **A**ddition / **S**ubtraction.\n",
        "\n",
        "Python segue regras semelhantes sobre quais cálculos executar primeiro. Eles são muito intuitivos."
      ]
    },
    {
      "cell_type": "code",
      "metadata": {
        "colab": {
          "base_uri": "https://localhost:8080/"
        },
        "id": "M3NPEyf4w1iL",
        "outputId": "b3df4d18-1907-4ef5-a7f4-541a6489c16f"
      },
      "source": [
        "8 - 3 + 2"
      ],
      "execution_count": 13,
      "outputs": [
        {
          "output_type": "execute_result",
          "data": {
            "text/plain": [
              "7"
            ]
          },
          "metadata": {},
          "execution_count": 13
        }
      ]
    },
    {
      "cell_type": "code",
      "metadata": {
        "colab": {
          "base_uri": "https://localhost:8080/"
        },
        "id": "tQnMoqqnw2Kz",
        "outputId": "e1164579-7e06-4f0a-c723-b7b0bf893893"
      },
      "source": [
        "-3 + 4 * 2"
      ],
      "execution_count": 14,
      "outputs": [
        {
          "output_type": "execute_result",
          "data": {
            "text/plain": [
              "5"
            ]
          },
          "metadata": {},
          "execution_count": 14
        }
      ]
    },
    {
      "cell_type": "markdown",
      "metadata": {
        "id": "AxqFwywBxAbC"
      },
      "source": [
        "Às vezes, a ordem padrão das operações não é o que queremos:"
      ]
    },
    {
      "cell_type": "code",
      "metadata": {
        "colab": {
          "base_uri": "https://localhost:8080/"
        },
        "id": "inUPOCp-w8g7",
        "outputId": "db2bc231-9c3b-447d-e2d7-acfecbd9641d"
      },
      "source": [
        "hat_height_cm = 25\n",
        "my_height_cm = 190\n",
        "# How tall am I, in meters, when wearing my hat?\n",
        "total_height_meters = hat_height_cm + my_height_cm / 100\n",
        "print(\"Height in meters =\", total_height_meters, \"?\")"
      ],
      "execution_count": 15,
      "outputs": [
        {
          "output_type": "stream",
          "text": [
            "Height in meters = 26.9 ?\n"
          ],
          "name": "stdout"
        }
      ]
    },
    {
      "cell_type": "markdown",
      "metadata": {
        "id": "hxAJHMS9xK5n"
      },
      "source": [
        "Os parênteses são úteis aqui. Você pode adicioná-los para forçar o Python a avaliar subexpressões na ordem que desejar."
      ]
    },
    {
      "cell_type": "code",
      "metadata": {
        "colab": {
          "base_uri": "https://localhost:8080/"
        },
        "id": "CGAEO43GxHWq",
        "outputId": "f8e43101-2007-4323-919a-023b3a091031"
      },
      "source": [
        "total_height_meters = (hat_height_cm + my_height_cm) / 100\n",
        "print(\"Height in meters =\", total_height_meters)"
      ],
      "execution_count": 16,
      "outputs": [
        {
          "output_type": "stream",
          "text": [
            "Height in meters = 2.15\n"
          ],
          "name": "stdout"
        }
      ]
    },
    {
      "cell_type": "markdown",
      "metadata": {
        "id": "VGwJgNWwxSHk"
      },
      "source": [
        "### Funções integradas para trabalhar com números\n",
        "\n",
        "`min` e` max` retornam o mínimo e o máximo de seus argumentos, respectivamente ..."
      ]
    },
    {
      "cell_type": "code",
      "metadata": {
        "colab": {
          "base_uri": "https://localhost:8080/"
        },
        "id": "hf39RGhoxR5l",
        "outputId": "57b3b9df-3009-4a1c-caa2-ad51a95cf108"
      },
      "source": [
        "print(min(1, 2, 3))\n",
        "print(max(1, 2, 3))"
      ],
      "execution_count": 17,
      "outputs": [
        {
          "output_type": "stream",
          "text": [
            "1\n",
            "3\n"
          ],
          "name": "stdout"
        }
      ]
    },
    {
      "cell_type": "markdown",
      "metadata": {
        "id": "Rvn-VZufxZCB"
      },
      "source": [
        "Além de serem os nomes dos dois principais tipos numéricos do Python, `int` e` float` também podem ser chamados como funções que convertem seus argumentos para o tipo correspondente:"
      ]
    },
    {
      "cell_type": "code",
      "metadata": {
        "colab": {
          "base_uri": "https://localhost:8080/"
        },
        "id": "Zw4j3s2rxMkp",
        "outputId": "ce2b8113-b41d-44be-88cc-2c9f6a8a78bf"
      },
      "source": [
        "print(float(10))\n",
        "print(int(3.33))\n",
        "print(int('807') + 1)"
      ],
      "execution_count": 19,
      "outputs": [
        {
          "output_type": "stream",
          "text": [
            "10.0\n",
            "3\n",
            "808\n"
          ],
          "name": "stdout"
        }
      ]
    },
    {
      "cell_type": "code",
      "metadata": {
        "id": "HRPapf1Nxbd_"
      },
      "source": [
        ""
      ],
      "execution_count": null,
      "outputs": []
    }
  ]
}